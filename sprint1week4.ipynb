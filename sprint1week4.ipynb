{
 "cells": [
  {
   "cell_type": "code",
   "execution_count": 8,
   "metadata": {},
   "outputs": [
    {
     "name": "stdout",
     "output_type": "stream",
     "text": [
      "a:\n",
      "[0.98628692 0.98338608 0.9802163  0.98232656 0.98285413]\n",
      "b:\n",
      "0.9783755274261603\n",
      "c:\n",
      "[0.0097326  0.90604892 0.02516702 0.04526575 0.00455673 0.00922899\n",
      " 0.        ]\n"
     ]
    }
   ],
   "source": [
    "# decision tree\n",
    "import pandas as pd\n",
    "import numpy as np\n",
    "from sklearn.tree import DecisionTreeClassifier # Import Decision Tree Classifier\n",
    "from sklearn.model_selection import train_test_split # Import train_test_split function\n",
    "from sklearn import metrics #Import scikit-learn metrics module for accuracy calculation\n",
    "\n",
    "df = pd.read_csv('/Users/loan/diamond1_sprint1.csv')\n",
    "\n",
    "arr = df.to_numpy()\n",
    "\n",
    "all_data = arr[:, 1 : -1] \n",
    "all_labels = arr[:, -1]\n",
    "\n",
    "x=all_data\n",
    "y=all_labels\n",
    "\n",
    "x_train,x_test,y_train,y_test=train_test_split(x, y, test_size=0.2)\n",
    "\n",
    "clf = DecisionTreeClassifier()\n",
    "\n",
    "clf = clf.fit(x_train,y_train)\n",
    "\n",
    "clf.score(x_test, y_test)\n",
    "\n",
    "#cross validation\n",
    "\n",
    "scores = cross_val_score(clf, x, y, cv=5)\n",
    "\n",
    "print(\"a:\")\n",
    "print(scores)\n",
    "\n",
    "#test data prediction accuracy\n",
    "\n",
    "y_pred = clf.predict(x_test)\n",
    "\n",
    "print(\"b:\")\n",
    "print(clf.score(x_test,y_test))\n",
    "\n",
    "#feature importance\n",
    "\n",
    "importance = clf.feature_importances_\n",
    "\n",
    "print(\"c:\")\n",
    "print(importance)\n",
    "\n"
   ]
  },
  {
   "cell_type": "code",
   "execution_count": 20,
   "metadata": {},
   "outputs": [
    {
     "name": "stdout",
     "output_type": "stream",
     "text": [
      "a:\n",
      "[0.98233122 0.98444093 0.98127143 0.98522817 0.98390926]\n",
      "b:\n",
      "0.9804852320675106\n",
      "c:\n",
      "[6.62850267e-02 5.15262446e-04 2.82735400e-03 2.85683636e-04\n",
      " 3.62558006e-03 7.09899540e-07 7.26242621e-03]\n"
     ]
    }
   ],
   "source": [
    "#logistic regression\n",
    "\n",
    "from sklearn.linear_model import LogisticRegression\n",
    "\n",
    "df = pd.read_csv('/Users/loan/diamond1_sprint1.csv')\n",
    "\n",
    "arr = df.to_numpy()\n",
    "\n",
    "all_data = arr[:, 1 : -1] \n",
    "all_labels = arr[:, -1]\n",
    "\n",
    "x=all_data\n",
    "y=all_labels\n",
    "\n",
    "x_train,x_test,y_train,y_test=train_test_split(x, y, test_size=0.2)\n",
    "\n",
    "clf = LogisticRegression().fit(x_train, y_train)\n",
    "\n",
    "clf.predict(x_test)\n",
    "\n",
    "clf.predict_proba(x_test)\n",
    "\n",
    "#cross validation\n",
    "\n",
    "scores = cross_val_score(clf, x, y, cv=5)\n",
    "\n",
    "print(\"a:\")\n",
    "print(scores)\n",
    "\n",
    "#test data prediction accuracy\n",
    "\n",
    "print('b:')\n",
    "print(clf.score(x_test, y_test))\n",
    "\n",
    "#feature importance\n",
    "\n",
    "importance = clf.coef_[0]\n",
    "\n",
    "print('c:')\n",
    "print(importance)"
   ]
  }
 ],
 "metadata": {
  "interpreter": {
   "hash": "397704579725e15f5c7cb49fe5f0341eb7531c82d19f2c29d197e8b64ab5776b"
  },
  "kernelspec": {
   "display_name": "Python 3.9.5 64-bit",
   "language": "python",
   "name": "python3"
  },
  "language_info": {
   "codemirror_mode": {
    "name": "ipython",
    "version": 3
   },
   "file_extension": ".py",
   "mimetype": "text/x-python",
   "name": "python",
   "nbconvert_exporter": "python",
   "pygments_lexer": "ipython3",
   "version": "3.9.5"
  },
  "orig_nbformat": 4
 },
 "nbformat": 4,
 "nbformat_minor": 2
}
